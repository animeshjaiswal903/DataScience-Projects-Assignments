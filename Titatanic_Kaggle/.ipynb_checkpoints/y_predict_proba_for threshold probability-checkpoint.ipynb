{
 "cells": [
  {
   "cell_type": "code",
   "execution_count": null,
   "id": "566a9fe1",
   "metadata": {},
   "outputs": [],
   "source": [
    "train_predict_prob=rfe.predict_proba(X_train)\n",
    "train_predict_prob=pd.DataFrame(train_predict_prob,columns=[\"Zero\",\"Ones\"])\n",
    "train_predict_prob=train_predict_prob.iloc[:,[1]]\n",
    "train_predict_prob['predicted'] = train_predict_prob.Survived.map( lambda x: 1 if x > 0.5 else 0)\n",
    "train_predict_prob=train_predict_prob['predicted']"
   ]
  }
 ],
 "metadata": {
  "kernelspec": {
   "display_name": "Python 3",
   "language": "python",
   "name": "python3"
  },
  "language_info": {
   "codemirror_mode": {
    "name": "ipython",
    "version": 3
   },
   "file_extension": ".py",
   "mimetype": "text/x-python",
   "name": "python",
   "nbconvert_exporter": "python",
   "pygments_lexer": "ipython3",
   "version": "3.8.8"
  }
 },
 "nbformat": 4,
 "nbformat_minor": 5
}
