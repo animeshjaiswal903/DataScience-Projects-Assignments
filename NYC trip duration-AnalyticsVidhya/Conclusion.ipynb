{
 "cells": [
  {
   "cell_type": "code",
   "execution_count": null,
   "id": "8cb4a128",
   "metadata": {},
   "outputs": [],
   "source": [
    "'''\n",
    "Evaluation metric:\n",
    "Since our target variable is continous (trip_duration in seconds) we have used MSE,MAE,R2 for KNN;\n",
    "MAE for Benchmark; MSE for Linear Regression.\n",
    "\n",
    "Considering analysis from EDA provided:\n",
    "1>Some outiliers are removed. trip_duration>6000 are removed(Considering Box plot for passenger count in EDA analysis)\n",
    "2>'Short distance' is calculated using features- pickup and dropoff- (lattitude and longitude) repectively.\n",
    "3>There are more than 7 lacs rows,hence stratified sampling is done to reduce the data to 40% to improve execution speed.\n",
    "  Stratified sampling helps to reduce data without any change in model performance.\n",
    "\n",
    "\n",
    "Observations and Conclusions:\n",
    "1>KNN:  MSE:\n",
    "        After K>150, the mse error seems to follow a straight pattern.\n",
    "        \n",
    "        R2:\n",
    "        For K=81 and K=101, the test R2 error value is at optimum and going down for K>120. As R2 must be high as\n",
    "        possible and close to 1 we can take K around 80 and 100\n",
    "        So 80<K100 can be taken.\n",
    "        \n",
    "        MAE:\n",
    "        Both test and train error are around 230.\n",
    "\n",
    "2>Benchmark vs KNN:\n",
    "        KNN's(K=80): MAE: Around 230.\n",
    "        Bemchmark MAE: Around 350.\n",
    "        \n",
    "        Here the MAE of KNN model seems low and hence KNN model can be considered a better model.\n",
    "\n",
    "3>Linear vs KNN\n",
    "        KNN:MSE:      Test->119682,  Train->115345\n",
    "        LinearReg:MSE:Test->165526,  Train->164932\n",
    "\n",
    "        Here the MSE of KNN model seems low and hence KNN model can be considered a better model.\n",
    "\n",
    "After evaluating all the 3 models we can consider KNN model for our problem.\n",
    "'''\n"
   ]
  }
 ],
 "metadata": {
  "kernelspec": {
   "display_name": "Python 3",
   "language": "python",
   "name": "python3"
  },
  "language_info": {
   "codemirror_mode": {
    "name": "ipython",
    "version": 3
   },
   "file_extension": ".py",
   "mimetype": "text/x-python",
   "name": "python",
   "nbconvert_exporter": "python",
   "pygments_lexer": "ipython3",
   "version": "3.8.8"
  }
 },
 "nbformat": 4,
 "nbformat_minor": 5
}
