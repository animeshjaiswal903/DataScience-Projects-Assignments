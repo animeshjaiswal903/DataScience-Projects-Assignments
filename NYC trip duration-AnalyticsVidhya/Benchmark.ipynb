{
 "cells": [
  {
   "cell_type": "code",
   "execution_count": 4,
   "id": "aab43d24",
   "metadata": {},
   "outputs": [
    {
     "data": {
      "text/plain": [
       "351.75273416135633"
      ]
     },
     "execution_count": 4,
     "metadata": {},
     "output_type": "execute_result"
    }
   ],
   "source": [
    "#Benchmark Model\n",
    "%matplotlib inline\n",
    "import numpy as np\n",
    "import pandas as pd\n",
    "from datetime import timedelta\n",
    "import datetime as dt\n",
    "import matplotlib.pyplot as plt\n",
    "import seaborn as sns\n",
    "from sklearn.model_selection import train_test_split\n",
    "import warnings\n",
    "warnings.filterwarnings('ignore')\n",
    "from sklearn.neighbors import KNeighborsRegressor as KNN\n",
    "from sklearn.metrics import mean_squared_error as mse\n",
    "\n",
    "df = pd.read_csv('nyc_taxi_trip_duration Dataset.csv')\n",
    "df['pickup_datetime'] = pd.to_datetime(df.pickup_datetime)\n",
    "df['dropoff_datetime'] = pd.to_datetime(df.dropoff_datetime)\n",
    "\n",
    "df['day_of_week'] = df['pickup_datetime'].dt.weekday\n",
    "df['hour_of_day'] = df['pickup_datetime'].dt.hour\n",
    "\n",
    "df=df[df[\"trip_duration\"]<2000]\n",
    "df = df.loc[(df.pickup_latitude > 40.6) & (df.pickup_latitude < 40.9)]\n",
    "df = df.loc[(df.dropoff_latitude>40.6) & (df.dropoff_latitude < 40.9)]\n",
    "df = df.loc[(df.dropoff_longitude > -74.05) & (df.dropoff_longitude < -73.7)]\n",
    "df = df.loc[(df.pickup_longitude > -74.05) & (df.pickup_longitude < -73.7)]\n",
    "df.drop([\"id\",\"pickup_datetime\",\"dropoff_datetime\",\"pickup_longitude\",\"pickup_latitude\",\"dropoff_longitude\",\"dropoff_latitude\",\"store_and_fwd_flag\"],axis=1,inplace=True)\n",
    "df.head()\n",
    "\n",
    "\n",
    "\n",
    "\n",
    "from sklearn.utils import shuffle\n",
    "\n",
    "# Shuffling the Dataset\n",
    "data = shuffle(df, random_state = 42)\n",
    "\n",
    "#creating 4 divisions\n",
    "div = int(data.shape[0]/4)\n",
    "\n",
    "# 3 parts to train set and 1 part to test set\n",
    "train = data.loc[:3*div+1,:]\n",
    "test = data.loc[3*div+1:]\n",
    "\n",
    "test['simple_mean'] = train['trip_duration'].mean()\n",
    "\n",
    "#calculating mean squared error\n",
    "from sklearn.metrics import mean_absolute_error as MAE\n",
    "\n",
    "simple_mean_error = MAE(test['trip_duration'] , test['simple_mean'])\n",
    "simple_mean_error\n"
   ]
  },
  {
   "cell_type": "code",
   "execution_count": 5,
   "id": "df189d43",
   "metadata": {},
   "outputs": [
    {
     "data": {
      "text/html": [
       "<div>\n",
       "<style scoped>\n",
       "    .dataframe tbody tr th:only-of-type {\n",
       "        vertical-align: middle;\n",
       "    }\n",
       "\n",
       "    .dataframe tbody tr th {\n",
       "        vertical-align: top;\n",
       "    }\n",
       "\n",
       "    .dataframe thead th {\n",
       "        text-align: right;\n",
       "    }\n",
       "</style>\n",
       "<table border=\"1\" class=\"dataframe\">\n",
       "  <thead>\n",
       "    <tr style=\"text-align: right;\">\n",
       "      <th></th>\n",
       "      <th>trip_duration</th>\n",
       "    </tr>\n",
       "    <tr>\n",
       "      <th>vendor_id</th>\n",
       "      <th></th>\n",
       "    </tr>\n",
       "  </thead>\n",
       "  <tbody>\n",
       "    <tr>\n",
       "      <th>1</th>\n",
       "      <td>718.647054</td>\n",
       "    </tr>\n",
       "    <tr>\n",
       "      <th>2</th>\n",
       "      <td>723.436769</td>\n",
       "    </tr>\n",
       "  </tbody>\n",
       "</table>\n",
       "</div>"
      ],
      "text/plain": [
       "           trip_duration\n",
       "vendor_id               \n",
       "1             718.647054\n",
       "2             723.436769"
      ]
     },
     "execution_count": 5,
     "metadata": {},
     "output_type": "execute_result"
    }
   ],
   "source": [
    "#Mean trip_duration with respect to vendor_id\n",
    "vendor_type = pd.pivot_table(train, values='trip_duration', index = ['vendor_id'], aggfunc=np.mean)\n",
    "vendor_type"
   ]
  },
  {
   "cell_type": "code",
   "execution_count": 6,
   "id": "701c7772",
   "metadata": {},
   "outputs": [
    {
     "data": {
      "text/plain": [
       "514258    723.436769\n",
       "728708    718.647054\n",
       "186490    723.436769\n",
       "97215     723.436769\n",
       "183307    718.647054\n",
       "             ...    \n",
       "275683    723.436769\n",
       "389094    723.436769\n",
       "140385    723.436769\n",
       "713848    718.647054\n",
       "129793    718.647054\n",
       "Name: vendor_type_mean, Length: 68380, dtype: float64"
      ]
     },
     "execution_count": 6,
     "metadata": {},
     "output_type": "execute_result"
    }
   ],
   "source": [
    "# initializing new column to zero\n",
    "test['vendor_type_mean'] = 0\n",
    "\n",
    "# For every unique entry \n",
    "for i in train['vendor_id'].unique():\n",
    "  # Assign the mean value corresponding to unique entry\n",
    "  test['vendor_type_mean'][test['vendor_id'] == int(i)] = train['trip_duration'][train['vendor_id'] == int(i)].mean()\n",
    "test['vendor_type_mean']"
   ]
  },
  {
   "cell_type": "code",
   "execution_count": 7,
   "id": "769c843d",
   "metadata": {},
   "outputs": [
    {
     "data": {
      "text/plain": [
       "351.74532034817554"
      ]
     },
     "execution_count": 7,
     "metadata": {},
     "output_type": "execute_result"
    }
   ],
   "source": [
    "vendor_type_error = MAE(test['trip_duration'] , test['vendor_type_mean'] )\n",
    "vendor_type_error"
   ]
  },
  {
   "cell_type": "code",
   "execution_count": 8,
   "id": "0858fe66",
   "metadata": {},
   "outputs": [
    {
     "data": {
      "text/plain": [
       "351.6379135240336"
      ]
     },
     "execution_count": 8,
     "metadata": {},
     "output_type": "execute_result"
    }
   ],
   "source": [
    "#Mean trip_duration with respect to passenger_count\n",
    "passenger_count_type = pd.pivot_table(train, values='trip_duration', index = ['passenger_count'], aggfunc=np.mean)\n",
    "passenger_count_type\n",
    "\n",
    "# initializing new column to zero\n",
    "test['passenger_count_type_mean'] = 0\n",
    "# For every unique entry \n",
    "for i in train['passenger_count'].unique():\n",
    "  # Assign the mean value corresponding to unique entry\n",
    "  test['passenger_count_type_mean'][test['passenger_count'] == int(i)] = train['trip_duration'][train['passenger_count'] == int(i)].mean()\n",
    "passenger_count_type_error = MAE(test['trip_duration'] , test['passenger_count_type_mean'] )\n",
    "passenger_count_type_error"
   ]
  },
  {
   "cell_type": "code",
   "execution_count": 9,
   "id": "c128e40a",
   "metadata": {},
   "outputs": [
    {
     "data": {
      "text/plain": [
       "350.7151856225268"
      ]
     },
     "execution_count": 9,
     "metadata": {},
     "output_type": "execute_result"
    }
   ],
   "source": [
    "#Mean trip_duration with respect to day_of_week\n",
    "day_of_week_type = pd.pivot_table(train, values='trip_duration', index = ['day_of_week'], aggfunc=np.mean)\n",
    "day_of_week_type\n",
    "\n",
    "# initializing new column to zero\n",
    "test['day_of_week_type_mean'] = 0\n",
    "# For every unique entry \n",
    "for i in train['day_of_week'].unique():\n",
    "  # Assign the mean value corresponding to unique entry\n",
    "  test['day_of_week_type_mean'][test['day_of_week'] == int(i)] = train['trip_duration'][train['day_of_week'] == int(i)].mean()\n",
    "day_of_week_type_error = MAE(test['trip_duration'] , test['day_of_week_type_mean'] )\n",
    "day_of_week_type_error\n"
   ]
  },
  {
   "cell_type": "code",
   "execution_count": 10,
   "id": "e3b0f59d",
   "metadata": {},
   "outputs": [
    {
     "data": {
      "text/plain": [
       "349.949874273212"
      ]
     },
     "execution_count": 10,
     "metadata": {},
     "output_type": "execute_result"
    }
   ],
   "source": [
    "#Mean trip_duration with respect to hour_of_day\n",
    "hour_of_day_type = pd.pivot_table(train, values='trip_duration', index = ['hour_of_day'], aggfunc=np.mean)\n",
    "hour_of_day_type\n",
    "\n",
    "# initializing new column to zero\n",
    "test['hour_of_day_type_mean'] = 0\n",
    "# For every unique entry \n",
    "for i in train['hour_of_day'].unique():\n",
    "  # Assign the mean value corresponding to unique entry\n",
    "  test['hour_of_day_type_mean'][test['hour_of_day'] == int(i)] = train['trip_duration'][train['hour_of_day'] == int(i)].mean()\n",
    "hour_of_day_type_error = MAE(test['trip_duration'] , test['hour_of_day_type_mean'] )\n",
    "hour_of_day_type_error"
   ]
  },
  {
   "cell_type": "code",
   "execution_count": null,
   "id": "51cebdd8",
   "metadata": {},
   "outputs": [],
   "source": []
  }
 ],
 "metadata": {
  "kernelspec": {
   "display_name": "Python 3",
   "language": "python",
   "name": "python3"
  },
  "language_info": {
   "codemirror_mode": {
    "name": "ipython",
    "version": 3
   },
   "file_extension": ".py",
   "mimetype": "text/x-python",
   "name": "python",
   "nbconvert_exporter": "python",
   "pygments_lexer": "ipython3",
   "version": "3.8.8"
  }
 },
 "nbformat": 4,
 "nbformat_minor": 5
}
