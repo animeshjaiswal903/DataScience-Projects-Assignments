{
 "cells": [
  {
   "cell_type": "code",
   "execution_count": 1,
   "id": "736d78b7",
   "metadata": {},
   "outputs": [
    {
     "name": "stdout",
     "output_type": "stream",
     "text": [
      "['WILL: I’ve never seen wildlings do a thing like this. I’ve never seen a thing like this, not ever in my life.\\n', '\\n', 'WAYMAR ROYCE: How close did you get?\\n', '\\n', 'WILL: Close as any man would.\\n', '\\n', 'GARED: We should head back to the wall.\\n', '\\n', 'ROYCE: Do the dead frighten you?\\n', '\\n', 'GARED: Our orders were to track the wildlings. We tracked them. They won’t trouble us no more.\\n', '\\n', 'ROYCE: You don’t think he’ll ask us how they died? Get back on your horse.\\n', '\\n', 'WILL: Whatever did it to them could do it to us. They even killed the children.\\n', '\\n', 'ROYCE: It’s a good thing we’re not children. You want to run away south, run away. Of course, they will behead you as a deserter … If I don’t catch you first. Get back on your horse. I won’t say it again.\\n', '\\n', 'ROYCE: Your dead men seem to have moved camp.\\n', '\\n', 'WILL: They were here.\\n', '\\n', 'GARED: See where they went.\\n', '\\n', 'ROYCE: What is it?\\n', '\\n', 'JON: Go on. Father’s watching.\\n', '\\n', 'JON: And your mother.\\n', '\\n', 'SEPTA MORDANE: Fine work, as always. Well done.\\n', '\\n', 'SANSA: Thank you.\\n', '\\n', 'SEPTA MORDANE: I love the detail that you’ve managed to get in this corners.\\n', '\\n', 'NED: And which one of you was a marksman at ten? Keep practicing, Bran. Go on.\\n', '\\n', 'JON: Don’t think too much, Bran.\\n', '\\n', 'ROBB: Relax your bow arm.\\n', '\\n', 'CASSEL: Lord Stark. My lady. A guardsman just rode in from the hills. They’ve captured a deserter from the Night’s Watch.\\n', '\\n', 'NED: Get the lads to saddle their horses.\\n', '\\n', 'CATELYN: Do you have to?\\n', '\\n', 'NED: He swore an oath, Cat.\\n', '\\n', 'CASSEL: The law is law, my lady.\\n', '\\n', 'NED: Tell Bran he’s coming, too.\\n', '\\n', 'CATELYN: Ned. Ten is too young to see such things.\\n', '\\n', 'NED: He won’t be a boy forever. And winter is coming.\\n', '\\n', 'ROBB: Lad, go run back and get the rest.\\n', '\\n', 'NED: King of the Andals and the First Men …\\n', '\\n', 'JON: Father will know if you do.\\n', '\\n', 'NED: Lord of the Seven Kingdoms and protector of the realm, I, Eddard of the House Stark, Lord of Winterfell and Warden of the North, sentence you to die.\\n', '\\n', 'JON: You did well.\\n', '\\n', 'NED: You understand why I did it?\\n', '\\n', 'BRAN: Jon said he was a deserter.\\n', '\\n', 'NED: But do you understand why I had to kill him?\\n', '\\n', 'BRAN: Our way is the old way?\\n', '\\n', 'NED: The man who passes the sentence should swing the sword.\\n', '\\n', 'BRAN: Is it true he saw the White Walkers?\\n', '\\n', 'NED: The White Walkers have been gone for thousands of years.\\n', '\\n', 'BRAN: So he was lying?\\n', '\\n', 'NED: A madman sees what he sees.\\n', '\\n', 'JON: What is it?\\n', '\\n', 'THEON: Mountain lion?\\n', '\\n', 'NED: There are no mountain lions in these woods.\\n', '\\n', 'THEON: It’s a freak.\\n', '\\n', 'NED: It’s a direwolf.\\n', '\\n', 'NED: Tough old beast.\\n', '\\n', 'ROBB: There are no direwolves south of the Wall.\\n', '\\n', 'JON: Now there are five.\\n', '\\n', 'JON: You want to hold it?\\n', '\\n', 'BRAN: Where will they go? Their mother’s dead.\\n', '\\n', 'CASSEL: They don’t belong down here.\\n', '\\n', 'NED: Better a quick death. They won’t last without their mother.\\n', '\\n', 'THEON: Right. Give it here.\\n', '\\n', 'BRAN: NO!\\n', '\\n', 'ROBB: Put away your blade.\\n', '\\n', 'THEON: I take orders from your father, not you.\\n', '\\n', 'BRAN: Please, father!\\n', '\\n', 'NED: I’m sorry, Bran.\\n', '\\n', 'JON: Lord Stark? There are five pups. One for each of the Stark children. The direwolf is the sigil of your House. They were meant to have them.\\n', '\\n', 'NED: You will train them yourselves. You will feed them yourselves. And if they die, you will bury them yourselves.\\n', '\\n', 'BRAN: What about you?\\n', '\\n', 'JON: I’m not a Stark. Get on.\\n', '\\n', 'ROBB: What is it?\\n', '\\n', 'CERSEI: What if Jon Arryn told someone?\\n', '\\n', 'JAIME: But who would he tell?\\n', '\\n', 'CERSEI: My husband.\\n', '\\n', 'JAIME: If he told the king, both our heads would be skewered on the city gates by now. Whatever Jon Arryn knew or didn’t know, it died with him. And Robert will choose a new Hand of the king, someone to do his job while he’s off fucking boars and hunting whores. Or is it the other way around? And life will go on.\\n', '\\n', 'CERSEI: You should be the Hand of the king.\\n', '\\n', 'JAIME: That’s an honor I can do without. Their days are too long, their lives are too short.\\n', '\\n', 'CATELYN: All these years and I still feel like an outsider when I come here.\\n', '\\n', 'NED: You have five northern children. You’re not an outsider.\\n', '\\n', 'CATELYN: I wonder if the old gods agree.\\n', '\\n', 'NED: It’s your gods with all the rules.\\n', '\\n', 'CATELYN: I am so sorry, my love.\\n', '\\n', 'NED: Tell me.\\n', '\\n', 'ROBB: I hear the prince is a right royal prick.\\n', '\\n', 'THEON: Think of all those southern girls he gets to stab with his right royal prick.\\n', '\\n', 'ROBB: Go on, Tommy, shave him good. He’s never met a girl he likes better than his own hair.\\n', '\\n', 'CATELYN: Gods, but they grow fast.\\n', '\\n', 'BRAN: I saw the king! He’s got hundreds of people!\\n', '\\n', 'CATELYN: How many times have I told you No climbing!\\n', '\\n', 'BRAN: But he’s coming right now! Down our road!\\n', '\\n', 'CATELYN: I want you to promise me. No more climbing.\\n', '\\n', 'NED: Your Grace.\\n', '\\n', 'ROBERT: You’ve got fat.\\n', '\\n', 'ROBERT: Cat!\\n', '\\n', 'CATELYN: Your Grace.\\n', '\\n', 'ROBERT: Nine years. Why haven’t I seen you? Where the hell have you been?\\n', '\\n', 'NED: Guarding the North for you, Your Grace. Winterfell is yours.\\n', '\\n', 'ARYA: Where’s the Imp?\\n', '\\n', 'SANSA: Will you shut up?\\n', '\\n', 'ROBERT: Who have we here? You must be Robb.\\n', '\\n', 'ARYA: Arya.\\n', '\\n', 'ROBERT: Ooh. Show us your muscles. You’ll be a soldier.\\n', '\\n', 'ARYA: That’s Jaime Lannister. The queen’s twin brother.\\n', '\\n', 'SANSA: Would you please shut up.\\n', '\\n', 'NED: My queen.\\n', '\\n', 'CATELYN: My queen.\\n', '\\n', 'ROBERT: Take me to your crypt. I want to pay my respects.\\n', '\\n', 'CERSEI: We’ve been riding for a month, my love. Surely the dead can wait.\\n', '\\n', 'ROBERT: Ned.\\n', '\\n', 'ARYA: Where’s the Imp?\\n', '\\n', 'CERSEI: Where is our brother? Go find the little beast.\\n', '\\n', 'NED: Tell me about Jon Arryn.\\n', '\\n', 'ROBERT: One minute he was fine, and then … Burned right through him, whatever it was. I loved that man.\\n', '\\n', 'NED: We both did.\\n', '\\n', 'ROBERT: He never had to teach you much, but me … You remember me at 16? All I wanted to do was crack skulls and fuck girls. He showed me what was what.\\n', '\\n', 'NED: Aye.\\n', '\\n']\n",
      "['WILL: I’ve never seen wildlings do a thing like this. I’ve never seen a thing like this, not ever in my life.', '', 'WAYMAR ROYCE: How close did you get?', '', 'WILL: Close as any man would.', '', 'GARED: We should head back to the wall.', '', 'ROYCE: Do the dead frighten you?', '', 'GARED: Our orders were to track the wildlings. We tracked them. They won’t trouble us no more.', '', 'ROYCE: You don’t think he’ll ask us how they died? Get back on your horse.', '', 'WILL: Whatever did it to them could do it to us. They even killed the children.', '', 'ROYCE: It’s a good thing we’re not children. You want to run away south, run away. Of course, they will behead you as a deserter … If I don’t catch you first. Get back on your horse. I won’t say it again.', '', 'ROYCE: Your dead men seem to have moved camp.', '', 'WILL: They were here.', '', 'GARED: See where they went.', '', 'ROYCE: What is it?', '', 'JON: Go on. Father’s watching.', '', 'JON: And your mother.', '', 'SEPTA MORDANE: Fine work, as always. Well done.', '', 'SANSA: Thank you.', '', 'SEPTA MORDANE: I love the detail that you’ve managed to get in this corners.', '', 'NED: And which one of you was a marksman at ten? Keep practicing, Bran. Go on.', '', 'JON: Don’t think too much, Bran.', '', 'ROBB: Relax your bow arm.', '', 'CASSEL: Lord Stark. My lady. A guardsman just rode in from the hills. They’ve captured a deserter from the Night’s Watch.', '', 'NED: Get the lads to saddle their horses.', '', 'CATELYN: Do you have to?', '', 'NED: He swore an oath, Cat.', '', 'CASSEL: The law is law, my lady.', '', 'NED: Tell Bran he’s coming, too.', '', 'CATELYN: Ned. Ten is too young to see such things.', '', 'NED: He won’t be a boy forever. And winter is coming.', '', 'ROBB: Lad, go run back and get the rest.', '', 'NED: King of the Andals and the First Men …', '', 'JON: Father will know if you do.', '', 'NED: Lord of the Seven Kingdoms and protector of the realm, I, Eddard of the House Stark, Lord of Winterfell and Warden of the North, sentence you to die.', '', 'JON: You did well.', '', 'NED: You understand why I did it?', '', 'BRAN: Jon said he was a deserter.', '', 'NED: But do you understand why I had to kill him?', '', 'BRAN: Our way is the old way?', '', 'NED: The man who passes the sentence should swing the sword.', '', 'BRAN: Is it true he saw the White Walkers?', '', 'NED: The White Walkers have been gone for thousands of years.', '', 'BRAN: So he was lying?', '', 'NED: A madman sees what he sees.', '', 'JON: What is it?', '', 'THEON: Mountain lion?', '', 'NED: There are no mountain lions in these woods.', '', 'THEON: It’s a freak.', '', 'NED: It’s a direwolf.', '', 'NED: Tough old beast.', '', 'ROBB: There are no direwolves south of the Wall.', '', 'JON: Now there are five.', '', 'JON: You want to hold it?', '', 'BRAN: Where will they go? Their mother’s dead.', '', 'CASSEL: They don’t belong down here.', '', 'NED: Better a quick death. They won’t last without their mother.', '', 'THEON: Right. Give it here.', '', 'BRAN: NO!', '', 'ROBB: Put away your blade.', '', 'THEON: I take orders from your father, not you.', '', 'BRAN: Please, father!', '', 'NED: I’m sorry, Bran.', '', 'JON: Lord Stark? There are five pups. One for each of the Stark children. The direwolf is the sigil of your House. They were meant to have them.', '', 'NED: You will train them yourselves. You will feed them yourselves. And if they die, you will bury them yourselves.', '', 'BRAN: What about you?', '', 'JON: I’m not a Stark. Get on.', '', 'ROBB: What is it?', '', 'CERSEI: What if Jon Arryn told someone?', '', 'JAIME: But who would he tell?', '', 'CERSEI: My husband.', '', 'JAIME: If he told the king, both our heads would be skewered on the city gates by now. Whatever Jon Arryn knew or didn’t know, it died with him. And Robert will choose a new Hand of the king, someone to do his job while he’s off fucking boars and hunting whores. Or is it the other way around? And life will go on.', '', 'CERSEI: You should be the Hand of the king.', '', 'JAIME: That’s an honor I can do without. Their days are too long, their lives are too short.', '', 'CATELYN: All these years and I still feel like an outsider when I come here.', '', 'NED: You have five northern children. You’re not an outsider.', '', 'CATELYN: I wonder if the old gods agree.', '', 'NED: It’s your gods with all the rules.', '', 'CATELYN: I am so sorry, my love.', '', 'NED: Tell me.', '', 'ROBB: I hear the prince is a right royal prick.', '', 'THEON: Think of all those southern girls he gets to stab with his right royal prick.', '', 'ROBB: Go on, Tommy, shave him good. He’s never met a girl he likes better than his own hair.', '', 'CATELYN: Gods, but they grow fast.', '', 'BRAN: I saw the king! He’s got hundreds of people!', '', 'CATELYN: How many times have I told you No climbing!', '', 'BRAN: But he’s coming right now! Down our road!', '', 'CATELYN: I want you to promise me. No more climbing.', '', 'NED: Your Grace.', '', 'ROBERT: You’ve got fat.', '', 'ROBERT: Cat!', '', 'CATELYN: Your Grace.', '', 'ROBERT: Nine years. Why haven’t I seen you? Where the hell have you been?', '', 'NED: Guarding the North for you, Your Grace. Winterfell is yours.', '', 'ARYA: Where’s the Imp?', '', 'SANSA: Will you shut up?', '', 'ROBERT: Who have we here? You must be Robb.', '', 'ARYA: Arya.', '', 'ROBERT: Ooh. Show us your muscles. You’ll be a soldier.', '', 'ARYA: That’s Jaime Lannister. The queen’s twin brother.', '', 'SANSA: Would you please shut up.', '', 'NED: My queen.', '', 'CATELYN: My queen.', '', 'ROBERT: Take me to your crypt. I want to pay my respects.', '', 'CERSEI: We’ve been riding for a month, my love. Surely the dead can wait.', '', 'ROBERT: Ned.', '', 'ARYA: Where’s the Imp?', '', 'CERSEI: Where is our brother? Go find the little beast.', '', 'NED: Tell me about Jon Arryn.', '', 'ROBERT: One minute he was fine, and then … Burned right through him, whatever it was. I loved that man.', '', 'NED: We both did.', '', 'ROBERT: He never had to teach you much, but me … You remember me at 16? All I wanted to do was crack skulls and fuck girls. He showed me what was what.', '', 'NED: Aye.', '']\n",
      "Output:\n",
      "Names of the characters are: ['CASSEL', 'WILL', 'WAYMAR ROYCE', 'JON', 'ROBB', 'THEON', 'CATELYN', 'CERSEI', 'NED', 'ROYCE', 'GARED', 'SEPTA MORDANE', 'SANSA', 'ROBERT', 'ARYA', 'BRAN', 'JAIME']\n",
      "\n",
      "Total number of unique characters are: 17\n",
      "\n",
      "NOTE:In the conv.txt the character 'WAYMAR ROYCE' is also written as just 'ROYCE' afterwords , so if we exclude the WAYMAR ROYCE we get 16 unique characters. \n"
     ]
    }
   ],
   "source": [
    "##TASK 1:Find out the number of unique dialogue speakers in the sample conversation\n",
    "#Loading the text file.\n",
    "with open(\"conv.txt\",\"r\",encoding=\"utf8\") as f:\n",
    "    lines=f.readlines()\n",
    "print(lines)\n",
    "#this will remove \\n from our lines.\n",
    "lines2=[]\n",
    "for i in lines:\n",
    "    lines2.append(i.strip())\n",
    "print(lines2)\n",
    "#empty lists to store our names.\n",
    "name=[]   #this will store a single name in a line, eg ['W','I','L','L']\n",
    "name2=[]  #this will join all the characters in a list, eg [\"WILL\"]\n",
    "names=[]  #this will join all the names2 element into a list , eg [\"WILL\",\"ROBB\"]\n",
    "\n",
    "#idea of this code is to read every character of a line till \":\" and append the characters to the list name.\n",
    "for i in range(len(lines2)):\n",
    "    for v in lines[i]:\n",
    "        if v==\":\":\n",
    "            break\n",
    "        else:\n",
    "            name.append(v)\n",
    "    name2=\"\".join(name)\n",
    "    name=[]\n",
    "    names.append(name2)\n",
    "\n",
    "# idea is to remove extra \\n from our list, so we first convert the list into a set and then remove it.\n",
    "names=set(names) #set will have only unique values of the list\n",
    "names.remove(\"\\n\")\n",
    "#then we will convert the names back to list.\n",
    "names=list(names)\n",
    "print(\"Output:\")\n",
    "print(\"Names of the characters are:\",names)\n",
    "print(\"\\nTotal number of unique characters are:\",len(names))\n",
    "print(\"\\nNOTE:In the conv.txt the character 'WAYMAR ROYCE' is also written as just 'ROYCE' afterwords , so if we exclude the WAYMAR ROYCE we get 16 unique characters. \")\n"
   ]
  },
  {
   "cell_type": "code",
   "execution_count": 207,
   "id": "20336cc7",
   "metadata": {
    "scrolled": true
   },
   "outputs": [
    {
     "name": "stdout",
     "output_type": "stream",
     "text": [
      "The unique words spoken by WILL are: ['Close', 'I’ve', 'They', 'Whatever', 'a', 'any', 'as', 'children.', 'could', 'did', 'do', 'even', 'ever', 'here.', 'in', 'it', 'killed', 'life.', 'like', 'man', 'my', 'never', 'not', 'seen', 'the', 'them', 'thing', 'this,', 'this.', 'to', 'us.', 'were', 'wildlings', 'would.']\n"
     ]
    }
   ],
   "source": [
    "#TASK 2:Create a new text file by the name of the dialogue speaker and store the unique words\n",
    "#       spoken by that character in the respective text file. Make sure there is only one word\n",
    "#       every line.\n",
    "\n",
    "#Loading the text file\n",
    "with open(\"conv.txt\",\"r\",encoding=\"utf8\") as f:\n",
    "    lines=f.readlines()\n",
    "\n",
    "#removing the '\\n'\n",
    "lines=set(lines)\n",
    "lines.remove(\"\\n\")\n",
    "lines=list(lines)\n",
    "\n",
    "#removing \\n inside the dialogue\n",
    "lines2=[]\n",
    "for i in lines:\n",
    "    lines2.append(i.strip())\n",
    "\n",
    "#changing each dialogue into a list\n",
    "lines3=[]\n",
    "for i in range(len(lines2)):\n",
    "    lines3.append(lines2[i].split())\n",
    "\n",
    "#appending the dialogues said by a particular speaker into a list.\n",
    "SPEAKER=[]\n",
    "for i in range(len(lines3)):\n",
    "    if lines3[i][0]==\"WILL:\":\n",
    "        SPEAKER.append(lines3[i])\n",
    "    else:\n",
    "        pass\n",
    "\n",
    "#deleting the speaker's name from the lines.\n",
    "for i in range(len(SPEAKER)):\n",
    "    del SPEAKER[i][0]\n",
    "\n",
    "#words said by the speaker into a list.\n",
    "speaker=[]\n",
    "for i in range(len(SPEAKER)):\n",
    "    for i2 in range(len(SPEAKER[i])):\n",
    "        speaker.append(SPEAKER[i][i2])\n",
    "        \n",
    "#removing the repeated words\n",
    "speaker=list(set(speaker))\n",
    "\n",
    "#sorting the list of words in alphabetical order\n",
    "speaker.sort()\n",
    "print(\"The unique words spoken by WILL are:\",speaker)\n",
    "\n",
    "#writing the unique words to the text file named after the speaker.\n",
    "w=open(\"will.txt\",\"w\")\n",
    "for i in speaker:\n",
    "    w.write(\"%s\\n\" % i)\n"
   ]
  },
  {
   "cell_type": "code",
   "execution_count": 208,
   "id": "8f42284d",
   "metadata": {},
   "outputs": [
    {
     "name": "stdout",
     "output_type": "stream",
     "text": [
      "The unique words spoken by JON are: ['And', 'Bran.', 'Don’t', 'Father', 'Father’s', 'Get', 'Go', 'House.', 'I’m', 'Lord', 'Now', 'One', 'Stark', 'Stark.', 'Stark?', 'The', 'There', 'They', 'What', 'You', 'a', 'are', 'children.', 'did', 'direwolf', 'do.', 'each', 'five', 'five.', 'for', 'have', 'hold', 'if', 'is', 'it?', 'know', 'meant', 'mother.', 'much,', 'not', 'of', 'on.', 'pups.', 'sigil', 'the', 'them.', 'there', 'think', 'to', 'too', 'want', 'watching.', 'well.', 'were', 'will', 'you', 'your']\n"
     ]
    }
   ],
   "source": [
    "#JON\n",
    "#appending the dialogues said by a particular speaker into a list.\n",
    "SPEAKER=[]\n",
    "for i in range(len(lines3)):\n",
    "    if lines3[i][0]==\"JON:\":\n",
    "        SPEAKER.append(lines3[i])\n",
    "    else:\n",
    "        pass\n",
    "\n",
    "#deleting the speaker's name from the lines.\n",
    "for i in range(len(SPEAKER)):\n",
    "    del SPEAKER[i][0]\n",
    "\n",
    "#words said by the speaker into a list.\n",
    "speaker=[]\n",
    "for i in range(len(SPEAKER)):\n",
    "    for i2 in range(len(SPEAKER[i])):\n",
    "        speaker.append(SPEAKER[i][i2])\n",
    "        \n",
    "#removing the repeated words\n",
    "speaker=list(set(speaker))\n",
    "\n",
    "#sorting the list of words in alphabetical order\n",
    "speaker.sort()\n",
    "print(\"The unique words spoken by JON are:\",speaker)\n",
    "\n",
    "#writing the unique words to the text file named after the speaker.\n",
    "w=open(\"JON.txt\",\"w\")\n",
    "for i in speaker:\n",
    "    w.write(\"%s\\n\" % i)"
   ]
  },
  {
   "cell_type": "code",
   "execution_count": 209,
   "id": "735c96c0",
   "metadata": {},
   "outputs": [
    {
     "name": "stdout",
     "output_type": "stream",
     "text": [
      "The unique words spoken by THEON are: ['Give', 'I', 'It’s', 'Mountain', 'Right.', 'Think', 'a', 'all', 'father,', 'freak.', 'from', 'gets', 'girls', 'he', 'here.', 'his', 'it', 'lion?', 'not', 'of', 'orders', 'prick.', 'right', 'royal', 'southern', 'stab', 'take', 'those', 'to', 'with', 'you.', 'your']\n"
     ]
    }
   ],
   "source": [
    "#THEON\n",
    "SPEAKER=[]\n",
    "for i in range(len(lines3)):\n",
    "    if lines3[i][0]==\"THEON:\":\n",
    "        SPEAKER.append(lines3[i])\n",
    "    else:\n",
    "        pass\n",
    "\n",
    "#deleting the speaker's name from the lines.\n",
    "for i in range(len(SPEAKER)):\n",
    "    del SPEAKER[i][0]\n",
    "\n",
    "#words said by the speaker into a list.\n",
    "speaker=[]\n",
    "for i in range(len(SPEAKER)):\n",
    "    for i2 in range(len(SPEAKER[i])):\n",
    "        speaker.append(SPEAKER[i][i2])\n",
    "        \n",
    "#removing the repeated words\n",
    "speaker=list(set(speaker))\n",
    "\n",
    "#sorting the list of words in alphabetical order\n",
    "speaker.sort()\n",
    "print(\"The unique words spoken by THEON are:\",speaker)\n",
    "\n",
    "#writing the unique words to the text file named after the speaker.\n",
    "w=open(\"THEON.txt\",\"w\")\n",
    "for i in speaker:\n",
    "    w.write(\"%s\\n\" % i)"
   ]
  },
  {
   "cell_type": "code",
   "execution_count": 210,
   "id": "cbe8b573",
   "metadata": {},
   "outputs": [
    {
     "name": "stdout",
     "output_type": "stream",
     "text": [
      "The unique words spoken by ROYCE are: ['Do', 'Get', 'I', 'If', 'It’s', 'Of', 'What', 'You', 'Your', 'a', 'again.', 'as', 'ask', 'away', 'away.', 'back', 'behead', 'camp.', 'catch', 'children.', 'course,', 'dead', 'deserter', 'died?', 'don’t', 'first.', 'frighten', 'good', 'have', 'he’ll', 'horse.', 'how', 'is', 'it', 'it?', 'men', 'moved', 'not', 'on', 'run', 'say', 'seem', 'south,', 'the', 'they', 'thing', 'think', 'to', 'us', 'want', 'we’re', 'will', 'won’t', 'you', 'you?', 'your', '…']\n"
     ]
    }
   ],
   "source": [
    "#ROYCE\n",
    "SPEAKER=[]\n",
    "for i in range(len(lines3)):\n",
    "    if lines3[i][0]==\"ROYCE:\":\n",
    "        SPEAKER.append(lines3[i])\n",
    "    else:\n",
    "        pass\n",
    "\n",
    "#deleting the speaker's name from the lines.\n",
    "for i in range(len(SPEAKER)):\n",
    "    del SPEAKER[i][0]\n",
    "\n",
    "#words said by the speaker into a list.\n",
    "speaker=[]\n",
    "for i in range(len(SPEAKER)):\n",
    "    for i2 in range(len(SPEAKER[i])):\n",
    "        speaker.append(SPEAKER[i][i2])\n",
    "        \n",
    "#removing the repeated words\n",
    "speaker=list(set(speaker))\n",
    "\n",
    "#sorting the list of words in alphabetical order\n",
    "speaker.sort()\n",
    "print(\"The unique words spoken by ROYCE are:\",speaker)\n",
    "\n",
    "#writing the unique words to the text file named after the speaker.\n",
    "w=open(\"ROYCE.txt\",\"w\")\n",
    "for i in speaker:\n",
    "    w.write(\"%s\\n\" % i)\n",
    "    "
   ]
  },
  {
   "cell_type": "code",
   "execution_count": 211,
   "id": "dc166433",
   "metadata": {},
   "outputs": [
    {
     "name": "stdout",
     "output_type": "stream",
     "text": [
      "The unique words spoken by GARED are: ['Our', 'See', 'They', 'We', 'back', 'head', 'more.', 'no', 'orders', 'should', 'the', 'them.', 'they', 'to', 'track', 'tracked', 'trouble', 'us', 'wall.', 'went.', 'were', 'where', 'wildlings.', 'won’t']\n"
     ]
    }
   ],
   "source": [
    "#GARED\n",
    "SPEAKER=[]\n",
    "for i in range(len(lines3)):\n",
    "    if lines3[i][0]==\"GARED:\":\n",
    "        SPEAKER.append(lines3[i])\n",
    "    else:\n",
    "        pass\n",
    "\n",
    "#deleting the speaker's name from the lines.\n",
    "for i in range(len(SPEAKER)):\n",
    "    del SPEAKER[i][0]\n",
    "\n",
    "#words said by the speaker into a list.\n",
    "speaker=[]\n",
    "for i in range(len(SPEAKER)):\n",
    "    for i2 in range(len(SPEAKER[i])):\n",
    "        speaker.append(SPEAKER[i][i2])\n",
    "        \n",
    "#removing the repeated words\n",
    "speaker=list(set(speaker))\n",
    "\n",
    "#sorting the list of words in alphabetical order\n",
    "speaker.sort()\n",
    "print(\"The unique words spoken by GARED are:\",speaker)\n",
    "\n",
    "#writing the unique words to the text file named after the speaker.\n",
    "w=open(\"GARED.txt\",\"w\")\n",
    "for i in speaker:\n",
    "    w.write(\"%s\\n\" % i)"
   ]
  },
  {
   "cell_type": "code",
   "execution_count": 212,
   "id": "dd826fda",
   "metadata": {},
   "outputs": [
    {
     "name": "stdout",
     "output_type": "stream",
     "text": [
      "The unique words spoken by NED are: ['A', 'And', 'Andals', 'Arryn.', 'Aye.', 'Better', 'Bran', 'Bran.', 'But', 'Cat.', 'Eddard', 'First', 'Get', 'Go', 'Grace.', 'Guarding', 'He', 'House', 'I', 'I,', 'It’s', 'I’m', 'Jon', 'Keep', 'King', 'Kingdoms', 'Lord', 'Men', 'My', 'North', 'North,', 'Seven', 'Stark,', 'Tell', 'The', 'There', 'They', 'Tough', 'Walkers', 'Warden', 'We', 'White', 'Winterfell', 'You', 'Your', 'You’re', 'a', 'about', 'all', 'an', 'and', 'are', 'at', 'be', 'beast.', 'been', 'both', 'boy', 'bury', 'children.', 'coming,', 'coming.', 'death.', 'did', 'did.', 'die,', 'die.', 'direwolf.', 'do', 'feed', 'five', 'for', 'forever.', 'gods', 'gone', 'had', 'have', 'he', 'he’s', 'him?', 'horses.', 'if', 'in', 'is', 'it?', 'kill', 'lads', 'last', 'lions', 'madman', 'man', 'marksman', 'me', 'me.', 'mother.', 'mountain', 'no', 'northern', 'not', 'oath,', 'of', 'old', 'on.', 'one', 'outsider.', 'passes', 'practicing,', 'protector', 'queen.', 'quick', 'realm,', 'rules.', 'saddle', 'sees', 'sees.', 'sentence', 'should', 'sorry,', 'swing', 'sword.', 'swore', 'ten?', 'the', 'their', 'them', 'these', 'they', 'thousands', 'to', 'too.', 'train', 'understand', 'was', 'what', 'which', 'who', 'why', 'will', 'winter', 'with', 'without', 'won’t', 'woods.', 'years.', 'you', 'you,', 'your', 'yours.', 'yourselves.', '…']\n"
     ]
    }
   ],
   "source": [
    "#NED\n",
    "SPEAKER=[]\n",
    "for i in range(len(lines3)):\n",
    "    if lines3[i][0]==\"NED:\":\n",
    "        SPEAKER.append(lines3[i])\n",
    "    else:\n",
    "        pass\n",
    "\n",
    "#deleting the speaker's name from the lines.\n",
    "for i in range(len(SPEAKER)):\n",
    "    del SPEAKER[i][0]\n",
    "\n",
    "#words said by the speaker into a list.\n",
    "speaker=[]\n",
    "for i in range(len(SPEAKER)):\n",
    "    for i2 in range(len(SPEAKER[i])):\n",
    "        speaker.append(SPEAKER[i][i2])\n",
    "        \n",
    "#removing the repeated words\n",
    "speaker=list(set(speaker))\n",
    "\n",
    "#sorting the list of words in alphabetical order\n",
    "speaker.sort()\n",
    "print(\"The unique words spoken by NED are:\",speaker)\n",
    "\n",
    "#writing the unique words to the text file named after the speaker.\n",
    "w=open(\"NED.txt\",\"w\")\n",
    "for i in speaker:\n",
    "    w.write(\"%s\\n\" % i)"
   ]
  },
  {
   "cell_type": "code",
   "execution_count": 213,
   "id": "7648f0ea",
   "metadata": {},
   "outputs": [
    {
     "name": "stdout",
     "output_type": "stream",
     "text": [
      "The unique words spoken by ROBERT are: ['16?', 'All', 'Burned', 'Cat!', 'He', 'I', 'Ned.', 'Nine', 'One', 'Ooh.', 'Robb.', 'Show', 'Take', 'Where', 'Who', 'Why', 'You', 'You’ll', 'You’ve', 'a', 'and', 'at', 'be', 'been?', 'but', 'crack', 'crypt.', 'do', 'fat.', 'fine,', 'fuck', 'girls.', 'got', 'had', 'have', 'haven’t', 'he', 'hell', 'here?', 'him,', 'it', 'loved', 'man.', 'me', 'minute', 'much,', 'muscles.', 'must', 'my', 'never', 'pay', 'remember', 'respects.', 'right', 'seen', 'showed', 'skulls', 'soldier.', 'teach', 'that', 'the', 'then', 'through', 'to', 'us', 'want', 'wanted', 'was', 'was.', 'we', 'what', 'what.', 'whatever', 'years.', 'you', 'you?', 'your', '…']\n"
     ]
    }
   ],
   "source": [
    "#ROBERT\n",
    "SPEAKER=[]\n",
    "for i in range(len(lines3)):\n",
    "    if lines3[i][0]==\"ROBERT:\":\n",
    "        SPEAKER.append(lines3[i])\n",
    "    else:\n",
    "        pass\n",
    "\n",
    "#deleting the speaker's name from the lines.\n",
    "for i in range(len(SPEAKER)):\n",
    "    del SPEAKER[i][0]\n",
    "\n",
    "#words said by the speaker into a list.\n",
    "speaker=[]\n",
    "for i in range(len(SPEAKER)):\n",
    "    for i2 in range(len(SPEAKER[i])):\n",
    "        speaker.append(SPEAKER[i][i2])\n",
    "        \n",
    "#removing the repeated words\n",
    "speaker=list(set(speaker))\n",
    "\n",
    "#sorting the list of words in alphabetical order\n",
    "speaker.sort()\n",
    "print(\"The unique words spoken by ROBERT are:\",speaker)\n",
    "\n",
    "#writing the unique words to the text file named after the speaker.\n",
    "w=open(\"ROBERT.txt\",\"w\")\n",
    "for i in speaker:\n",
    "    w.write(\"%s\\n\" % i)"
   ]
  },
  {
   "cell_type": "code",
   "execution_count": 214,
   "id": "f52233ce",
   "metadata": {},
   "outputs": [
    {
     "name": "stdout",
     "output_type": "stream",
     "text": [
      "The unique words spoken by CATELYN are: ['All', 'Do', 'Gods,', 'Grace.', 'How', 'I', 'My', 'Ned.', 'No', 'Ten', 'Your', 'agree.', 'am', 'an', 'and', 'but', 'climbing!', 'climbing.', 'come', 'fast.', 'feel', 'gods', 'grow', 'have', 'here.', 'if', 'is', 'like', 'love.', 'many', 'me.', 'more', 'my', 'old', 'outsider', 'promise', 'queen.', 'see', 'so', 'sorry,', 'still', 'such', 'the', 'these', 'they', 'things.', 'times', 'to', 'to?', 'told', 'too', 'want', 'when', 'wonder', 'years', 'you', 'young']\n"
     ]
    }
   ],
   "source": [
    "#CATELYN\n",
    "SPEAKER=[]\n",
    "for i in range(len(lines3)):\n",
    "    if lines3[i][0]==\"CATELYN:\":\n",
    "        SPEAKER.append(lines3[i])\n",
    "    else:\n",
    "        pass\n",
    "\n",
    "#deleting the speaker's name from the lines.\n",
    "for i in range(len(SPEAKER)):\n",
    "    del SPEAKER[i][0]\n",
    "\n",
    "#words said by the speaker into a list.\n",
    "speaker=[]\n",
    "for i in range(len(SPEAKER)):\n",
    "    for i2 in range(len(SPEAKER[i])):\n",
    "        speaker.append(SPEAKER[i][i2])\n",
    "        \n",
    "#removing the repeated words\n",
    "speaker=list(set(speaker))\n",
    "\n",
    "#sorting the list of words in alphabetical order\n",
    "speaker.sort()\n",
    "print(\"The unique words spoken by CATELYN are:\",speaker)\n",
    "\n",
    "#writing the unique words to the text file named after the speaker.\n",
    "w=open(\"CATELYN.txt\",\"w\")\n",
    "for i in speaker:\n",
    "    w.write(\"%s\\n\" % i)"
   ]
  },
  {
   "cell_type": "code",
   "execution_count": 215,
   "id": "b362532f",
   "metadata": {},
   "outputs": [
    {
     "name": "stdout",
     "output_type": "stream",
     "text": [
      "The unique words spoken by WAYMAR are: ['How', 'ROYCE:', 'close', 'did', 'get?', 'you']\n"
     ]
    }
   ],
   "source": [
    "#WAYMAR ROYCE\n",
    "SPEAKER=[]\n",
    "for i in range(len(lines3)):\n",
    "    if lines3[i][0]==\"WAYMAR\":\n",
    "        SPEAKER.append(lines3[i])\n",
    "    else:\n",
    "        pass\n",
    "\n",
    "#deleting the speaker's name from the lines.\n",
    "for i in range(len(SPEAKER)):\n",
    "    del SPEAKER[i][0]\n",
    "\n",
    "#words said by the speaker into a list.\n",
    "speaker=[]\n",
    "for i in range(len(SPEAKER)):\n",
    "    for i2 in range(len(SPEAKER[i])):\n",
    "        speaker.append(SPEAKER[i][i2])\n",
    "        \n",
    "#removing the repeated words\n",
    "speaker=list(set(speaker))\n",
    "\n",
    "#sorting the list of words in alphabetical order\n",
    "speaker.sort()\n",
    "print(\"The unique words spoken by WAYMAR are:\",speaker)\n",
    "\n",
    "#writing the unique words to the text file named after the speaker.\n",
    "w=open(\"WAYMAR.txt\",\"w\")\n",
    "for i in speaker:\n",
    "    w.write(\"%s\\n\" % i)"
   ]
  },
  {
   "cell_type": "code",
   "execution_count": 217,
   "id": "28bf98f2",
   "metadata": {},
   "outputs": [
    {
     "name": "stdout",
     "output_type": "stream",
     "text": [
      "The unique words spoken by ARYA are: ['Arya.', 'Imp?', 'Jaime', 'Lannister.', 'That’s', 'The', 'Where’s', 'brother.', 'queen’s', 'the', 'twin']\n"
     ]
    }
   ],
   "source": [
    "#ARYA\n",
    "SPEAKER=[]\n",
    "for i in range(len(lines3)):\n",
    "    if lines3[i][0]==\"ARYA:\":\n",
    "        SPEAKER.append(lines3[i])\n",
    "    else:\n",
    "        pass\n",
    "\n",
    "#deleting the speaker's name from the lines.\n",
    "for i in range(len(SPEAKER)):\n",
    "    del SPEAKER[i][0]\n",
    "\n",
    "#words said by the speaker into a list.\n",
    "speaker=[]\n",
    "for i in range(len(SPEAKER)):\n",
    "    for i2 in range(len(SPEAKER[i])):\n",
    "        speaker.append(SPEAKER[i][i2])\n",
    "        \n",
    "#removing the repeated words\n",
    "speaker=list(set(speaker))\n",
    "\n",
    "#sorting the list of words in alphabetical order\n",
    "speaker.sort()\n",
    "print(\"The unique words spoken by ARYA are:\",speaker)\n",
    "\n",
    "#writing the unique words to the text file named after the speaker.\n",
    "w=open(\"ARYA.txt\",\"w\")\n",
    "for i in speaker:\n",
    "    w.write(\"%s\\n\" % i)"
   ]
  },
  {
   "cell_type": "code",
   "execution_count": 218,
   "id": "8f2258d6",
   "metadata": {},
   "outputs": [
    {
     "name": "stdout",
     "output_type": "stream",
     "text": [
      "The unique words spoken by SANSA are: ['Thank', 'Will', 'Would', 'please', 'shut', 'up.', 'up?', 'you', 'you.']\n"
     ]
    }
   ],
   "source": [
    "#SANSA\n",
    "SPEAKER=[]\n",
    "for i in range(len(lines3)):\n",
    "    if lines3[i][0]==\"SANSA:\":\n",
    "        SPEAKER.append(lines3[i])\n",
    "    else:\n",
    "        pass\n",
    "\n",
    "#deleting the speaker's name from the lines.\n",
    "for i in range(len(SPEAKER)):\n",
    "    del SPEAKER[i][0]\n",
    "\n",
    "#words said by the speaker into a list.\n",
    "speaker=[]\n",
    "for i in range(len(SPEAKER)):\n",
    "    for i2 in range(len(SPEAKER[i])):\n",
    "        speaker.append(SPEAKER[i][i2])\n",
    "        \n",
    "#removing the repeated words\n",
    "speaker=list(set(speaker))\n",
    "\n",
    "#sorting the list of words in alphabetical order\n",
    "speaker.sort()\n",
    "print(\"The unique words spoken by SANSA are:\",speaker)\n",
    "\n",
    "#writing the unique words to the text file named after the speaker.\n",
    "w=open(\"SANSA.txt\",\"w\")\n",
    "for i in speaker:\n",
    "    w.write(\"%s\\n\" % i)"
   ]
  },
  {
   "cell_type": "code",
   "execution_count": 219,
   "id": "190a6343",
   "metadata": {},
   "outputs": [
    {
     "name": "stdout",
     "output_type": "stream",
     "text": [
      "The unique words spoken by CASSEL are: ['A', 'Lord', 'My', 'Night’s', 'Stark.', 'The', 'They', 'They’ve', 'Watch.', 'a', 'belong', 'captured', 'deserter', 'don’t', 'down', 'from', 'guardsman', 'here.', 'hills.', 'in', 'is', 'just', 'lady.', 'law', 'law,', 'my', 'rode', 'the']\n"
     ]
    }
   ],
   "source": [
    "#CASSEL\n",
    "SPEAKER=[]\n",
    "for i in range(len(lines3)):\n",
    "    if lines3[i][0]==\"CASSEL:\":\n",
    "        SPEAKER.append(lines3[i])\n",
    "    else:\n",
    "        pass\n",
    "\n",
    "#deleting the speaker's name from the lines.\n",
    "for i in range(len(SPEAKER)):\n",
    "    del SPEAKER[i][0]\n",
    "\n",
    "#words said by the speaker into a list.\n",
    "speaker=[]\n",
    "for i in range(len(SPEAKER)):\n",
    "    for i2 in range(len(SPEAKER[i])):\n",
    "        speaker.append(SPEAKER[i][i2])\n",
    "        \n",
    "#removing the repeated words\n",
    "speaker=list(set(speaker))\n",
    "\n",
    "#sorting the list of words in alphabetical order\n",
    "speaker.sort()\n",
    "print(\"The unique words spoken by CASSEL are:\",speaker)\n",
    "\n",
    "#writing the unique words to the text file named after the speaker.\n",
    "w=open(\"CASSEL.txt\",\"w\")\n",
    "for i in speaker:\n",
    "    w.write(\"%s\\n\" % i)"
   ]
  },
  {
   "cell_type": "code",
   "execution_count": 220,
   "id": "6de24f8e",
   "metadata": {},
   "outputs": [
    {
     "name": "stdout",
     "output_type": "stream",
     "text": [
      "The unique words spoken by BRAN are: ['But', 'Down', 'He’s', 'I', 'Is', 'Jon', 'NO!', 'Our', 'Please,', 'So', 'Their', 'Walkers?', 'What', 'Where', 'White', 'a', 'about', 'coming', 'dead.', 'deserter.', 'father!', 'go?', 'got', 'he', 'he’s', 'hundreds', 'is', 'it', 'king!', 'lying?', 'mother’s', 'now!', 'of', 'old', 'our', 'people!', 'right', 'road!', 'said', 'saw', 'the', 'they', 'true', 'was', 'way', 'way?', 'will', 'you?']\n"
     ]
    }
   ],
   "source": [
    "#BRAN\n",
    "SPEAKER=[]\n",
    "for i in range(len(lines3)):\n",
    "    if lines3[i][0]==\"BRAN:\":\n",
    "        SPEAKER.append(lines3[i])\n",
    "    else:\n",
    "        pass\n",
    "\n",
    "#deleting the speaker's name from the lines.\n",
    "for i in range(len(SPEAKER)):\n",
    "    del SPEAKER[i][0]\n",
    "\n",
    "#words said by the speaker into a list.\n",
    "speaker=[]\n",
    "for i in range(len(SPEAKER)):\n",
    "    for i2 in range(len(SPEAKER[i])):\n",
    "        speaker.append(SPEAKER[i][i2])\n",
    "        \n",
    "#removing the repeated words\n",
    "speaker=list(set(speaker))\n",
    "\n",
    "#sorting the list of words in alphabetical order\n",
    "speaker.sort()\n",
    "print(\"The unique words spoken by BRAN are:\",speaker)\n",
    "\n",
    "#writing the unique words to the text file named after the speaker.\n",
    "w=open(\"BRAN.txt\",\"w\")\n",
    "for i in speaker:\n",
    "    w.write(\"%s\\n\" % i)"
   ]
  },
  {
   "cell_type": "code",
   "execution_count": 222,
   "id": "37a24f6a",
   "metadata": {},
   "outputs": [
    {
     "name": "stdout",
     "output_type": "stream",
     "text": [
      "The unique words spoken by CERSEI are: ['Arryn', 'Go', 'Hand', 'Jon', 'My', 'Surely', 'We’ve', 'What', 'Where', 'You', 'a', 'be', 'beast.', 'been', 'brother?', 'can', 'dead', 'find', 'for', 'husband.', 'if', 'is', 'king.', 'little', 'love.', 'month,', 'my', 'of', 'our', 'riding', 'should', 'someone?', 'the', 'told', 'wait.']\n"
     ]
    }
   ],
   "source": [
    "#CERSIE\n",
    "SPEAKER=[]\n",
    "for i in range(len(lines3)):\n",
    "    if lines3[i][0]==\"CERSEI:\":\n",
    "        SPEAKER.append(lines3[i])\n",
    "    else:\n",
    "        pass\n",
    "\n",
    "#deleting the speaker's name from the lines.\n",
    "for i in range(len(SPEAKER)):\n",
    "    del SPEAKER[i][0]\n",
    "\n",
    "#words said by the speaker into a list.\n",
    "speaker=[]\n",
    "for i in range(len(SPEAKER)):\n",
    "    for i2 in range(len(SPEAKER[i])):\n",
    "        speaker.append(SPEAKER[i][i2])\n",
    "        \n",
    "#removing the repeated words\n",
    "speaker=list(set(speaker))\n",
    "\n",
    "#sorting the list of words in alphabetical order\n",
    "speaker.sort()\n",
    "print(\"The unique words spoken by CERSEI are:\",speaker)\n",
    "\n",
    "#writing the unique words to the text file named after the speaker.\n",
    "w=open(\"CERSIE.txt\",\"w\")\n",
    "for i in speaker:\n",
    "    w.write(\"%s\\n\" % i)"
   ]
  },
  {
   "cell_type": "code",
   "execution_count": 223,
   "id": "3bf3f7f3",
   "metadata": {},
   "outputs": [
    {
     "name": "stdout",
     "output_type": "stream",
     "text": [
      "The unique words spoken by JAIME are: ['And', 'Arryn', 'But', 'Hand', 'I', 'If', 'Jon', 'Or', 'Robert', 'That’s', 'Their', 'Whatever', 'a', 'an', 'and', 'are', 'around?', 'be', 'boars', 'both', 'by', 'can', 'choose', 'city', 'days', 'didn’t', 'died', 'do', 'fucking', 'gates', 'go', 'he', 'heads', 'he’s', 'him.', 'his', 'honor', 'hunting', 'is', 'it', 'job', 'king,', 'knew', 'know,', 'life', 'lives', 'long,', 'new', 'now.', 'of', 'off', 'on', 'on.', 'or', 'other', 'our', 'short.', 'skewered', 'someone', 'tell?', 'the', 'their', 'to', 'told', 'too', 'way', 'while', 'who', 'whores.', 'will', 'with', 'without.', 'would']\n"
     ]
    }
   ],
   "source": [
    "#JAIME\n",
    "SPEAKER=[]\n",
    "for i in range(len(lines3)):\n",
    "    if lines3[i][0]==\"JAIME:\":\n",
    "        SPEAKER.append(lines3[i])\n",
    "    else:\n",
    "        pass\n",
    "\n",
    "#deleting the speaker's name from the lines.\n",
    "for i in range(len(SPEAKER)):\n",
    "    del SPEAKER[i][0]\n",
    "\n",
    "#words said by the speaker into a list.\n",
    "speaker=[]\n",
    "for i in range(len(SPEAKER)):\n",
    "    for i2 in range(len(SPEAKER[i])):\n",
    "        speaker.append(SPEAKER[i][i2])\n",
    "        \n",
    "#removing the repeated words\n",
    "speaker=list(set(speaker))\n",
    "\n",
    "#sorting the list of words in alphabetical order\n",
    "speaker.sort()\n",
    "print(\"The unique words spoken by JAIME are:\",speaker)\n",
    "\n",
    "#writing the unique words to the text file named after the speaker.\n",
    "w=open(\"JAIME.txt\",\"w\")\n",
    "for i in speaker:\n",
    "    w.write(\"%s\\n\" % i)"
   ]
  },
  {
   "cell_type": "code",
   "execution_count": 224,
   "id": "d29f3a5a",
   "metadata": {},
   "outputs": [
    {
     "name": "stdout",
     "output_type": "stream",
     "text": [
      "The unique words spoken by ROBB are: ['Go', 'He’s', 'I', 'Lad,', 'Put', 'Relax', 'There', 'Tommy,', 'Wall.', 'What', 'a', 'and', 'are', 'arm.', 'away', 'back', 'better', 'blade.', 'bow', 'direwolves', 'get', 'girl', 'go', 'good.', 'hair.', 'he', 'hear', 'him', 'his', 'is', 'it?', 'likes', 'met', 'never', 'no', 'of', 'on,', 'own', 'prick.', 'prince', 'rest.', 'right', 'royal', 'run', 'shave', 'south', 'than', 'the', 'your']\n"
     ]
    }
   ],
   "source": [
    "#ROBB\n",
    "SPEAKER=[]\n",
    "for i in range(len(lines3)):\n",
    "    if lines3[i][0]==\"ROBB:\":\n",
    "        SPEAKER.append(lines3[i])\n",
    "    else:\n",
    "        pass\n",
    "\n",
    "#deleting the speaker's name from the lines.\n",
    "for i in range(len(SPEAKER)):\n",
    "    del SPEAKER[i][0]\n",
    "\n",
    "#words said by the speaker into a list.\n",
    "speaker=[]\n",
    "for i in range(len(SPEAKER)):\n",
    "    for i2 in range(len(SPEAKER[i])):\n",
    "        speaker.append(SPEAKER[i][i2])\n",
    "        \n",
    "#removing the repeated words\n",
    "speaker=list(set(speaker))\n",
    "\n",
    "#sorting the list of words in alphabetical order\n",
    "speaker.sort()\n",
    "print(\"The unique words spoken by ROBB are:\",speaker)\n",
    "\n",
    "#writing the unique words to the text file named after the speaker.\n",
    "w=open(\"ROBB.txt\",\"w\")\n",
    "for i in speaker:\n",
    "    w.write(\"%s\\n\" % i)"
   ]
  },
  {
   "cell_type": "code",
   "execution_count": 225,
   "id": "6464866a",
   "metadata": {},
   "outputs": [
    {
     "name": "stdout",
     "output_type": "stream",
     "text": [
      "The unique words spoken by SEPTA are: ['Fine', 'I', 'MORDANE:', 'Well', 'always.', 'as', 'corners.', 'detail', 'done.', 'get', 'in', 'love', 'managed', 'that', 'the', 'this', 'to', 'work,', 'you’ve']\n"
     ]
    }
   ],
   "source": [
    "#SEPTA MORDANE\n",
    "SPEAKER=[]\n",
    "for i in range(len(lines3)):\n",
    "    if lines3[i][0]==\"SEPTA\":\n",
    "        SPEAKER.append(lines3[i])\n",
    "    else:\n",
    "        pass\n",
    "\n",
    "#deleting the speaker's name from the lines.\n",
    "for i in range(len(SPEAKER)):\n",
    "    del SPEAKER[i][0]\n",
    "\n",
    "#words said by the speaker into a list.\n",
    "speaker=[]\n",
    "for i in range(len(SPEAKER)):\n",
    "    for i2 in range(len(SPEAKER[i])):\n",
    "        speaker.append(SPEAKER[i][i2])\n",
    "        \n",
    "#removing the repeated words\n",
    "speaker=list(set(speaker))\n",
    "\n",
    "#sorting the list of words in alphabetical order\n",
    "speaker.sort()\n",
    "print(\"The unique words spoken by SEPTA are:\",speaker)\n",
    "\n",
    "#writing the unique words to the text file named after the speaker.\n",
    "w=open(\"SEPTA.txt\",\"w\")\n",
    "for i in speaker:\n",
    "    w.write(\"%s\\n\" % i)"
   ]
  }
 ],
 "metadata": {
  "kernelspec": {
   "display_name": "Python 3",
   "language": "python",
   "name": "python3"
  },
  "language_info": {
   "codemirror_mode": {
    "name": "ipython",
    "version": 3
   },
   "file_extension": ".py",
   "mimetype": "text/x-python",
   "name": "python",
   "nbconvert_exporter": "python",
   "pygments_lexer": "ipython3",
   "version": "3.8.8"
  }
 },
 "nbformat": 4,
 "nbformat_minor": 5
}
